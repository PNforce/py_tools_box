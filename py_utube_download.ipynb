{
 "cells": [
  {
   "cell_type": "code",
   "execution_count": 19,
   "metadata": {},
   "outputs": [
    {
     "name": "stdout",
     "output_type": "stream",
     "text": [
      "[Download progress]:[████████████████████]100.00%;"
     ]
    }
   ],
   "source": [
    "# -*- coding: utf-8 -*-\n",
    "# res ='' 要手動改\n",
    "from pytube import YouTube  #9.5.4\n",
    "url = 'https://www.youtube.com/watch?v=bk2ZUPRc16k'\n",
    "save_path = r'G:\\utube'\n",
    "def progress(stream, chunk, file_handle, bytes_remaining):\n",
    "    contentSize = video.filesize\n",
    "    size = contentSize - bytes_remaining\n",
    "    \n",
    "    print('\\r' + '[Download progress]:[%s%s]%.2f%%;' % (\n",
    "    '█' * int(size*20/contentSize), ' '*(20-int(size*20/contentSize)), float(size/contentSize*100)), end='')\n",
    "count = 5\n",
    "reslist = ['1080p','720p','480p','360p','240p','144p']\n",
    "\n",
    "yt = YouTube(url, on_progress_callback=progress)\n",
    "video = yt.streams.filter(file_extension='mp4', res='1080p').first()\n",
    "video.download(save_path)"
   ]
  },
  {
   "cell_type": "code",
   "execution_count": 2,
   "metadata": {},
   "outputs": [
    {
     "data": {
      "text/plain": [
       "'H:\\\\Users\\\\PAX201606\\\\儿童歌曲《方舱医院真神奇》.mp4'"
      ]
     },
     "execution_count": 2,
     "metadata": {},
     "output_type": "execute_result"
    }
   ],
   "source": [
    "# -*- coding: utf-8 -*-\n",
    "from pytube import YouTube\n",
    "url = 'https://www.youtube.com/watch?v=lbwBn_33Ku8'\n",
    "save_path = r'G:\\utube'\n",
    "\n",
    "yt = YouTube(url)\n",
    "video = yt.streams.first()\n",
    "video.download()"
   ]
  },
  {
   "cell_type": "code",
   "execution_count": null,
   "metadata": {},
   "outputs": [],
   "source": [
    "from pytube import YouTube\n",
    "\n",
    "yt = YouTube('https://www.youtube.com/watch?v=sYERRN_Ksc8')\n",
    "\n",
    "video=yt.streams.filter(file_extension='mp4', res='1080p').first()\n",
    "\n",
    "video.download(r'E:\\\\')"
   ]
  }
 ],
 "metadata": {
  "kernelspec": {
   "display_name": "Python 3",
   "language": "python",
   "name": "python3"
  },
  "language_info": {
   "codemirror_mode": {
    "name": "ipython",
    "version": 3
   },
   "file_extension": ".py",
   "mimetype": "text/x-python",
   "name": "python",
   "nbconvert_exporter": "python",
   "pygments_lexer": "ipython3",
   "version": "3.7.0"
  }
 },
 "nbformat": 4,
 "nbformat_minor": 2
}
